{
  "metadata": {
    "kernelspec": {
      "name": "python",
      "display_name": "Python (Pyodide)",
      "language": "python"
    },
    "language_info": {
      "codemirror_mode": {
        "name": "python",
        "version": 3
      },
      "file_extension": ".py",
      "mimetype": "text/x-python",
      "name": "python",
      "nbconvert_exporter": "python",
      "pygments_lexer": "ipython3",
      "version": "3.8"
    },
    "colab": {
      "name": "percentage_predictor.ipynb",
      "provenance": [],
      "collapsed_sections": []
    }
  },
  "nbformat_minor": 4,
  "nbformat": 4,
  "cells": [
    {
      "cell_type": "markdown",
      "source": "## **Linear Regression with Python Scikit Learn**\nIn this section we will see how the Python Scikit-Learn library for machine learning can be used to implement regression functions. We will start with simple linear regression involving two variables.\n\n### **Simple Linear Regression**\nIn this regression task we will predict the percentage of marks that a student is expected to score based upon the number of hours they studied. This is a simple linear regression task as it involves just two variables.",
      "metadata": {
        "id": "GzfdMfk10NE6"
      }
    },
    {
      "cell_type": "code",
      "source": "# Importing all libraries required in this notebook\nimport pandas as pd\nimport numpy as np  \nimport matplotlib.pyplot as plt  \n%matplotlib inline",
      "metadata": {
        "id": "Yh24tOnhIdgY",
        "trusted": true
      },
      "outputs": [],
      "execution_count": 16
    },
    {
      "cell_type": "code",
      "source": "# Reading data from remote link\nurl = \"data2.csv\"\ns_data = pd.read_csv(url)\nprint(\"Data imported successfully\")\n\ns_data.head(10)",
      "metadata": {
        "colab": {
          "base_uri": "https://localhost:8080/",
          "height": 376
        },
        "id": "STYmug_BIq1I",
        "outputId": "b8c4e446-5fa4-4009-8663-076cd01330ba",
        "trusted": true
      },
      "outputs": [
        {
          "name": "stdout",
          "text": "Data imported successfully\n",
          "output_type": "stream"
        },
        {
          "execution_count": 28,
          "output_type": "execute_result",
          "data": {
            "text/plain": "   Hours  Scores\n0    2.5      21\n1    5.1      47\n2    3.2      27\n3    8.5      75\n4    3.5      30\n5    1.5      20\n6    9.2      88\n7    5.5      60\n8    8.3      81\n9    2.7      25",
            "text/html": "<div>\n<style scoped>\n    .dataframe tbody tr th:only-of-type {\n        vertical-align: middle;\n    }\n\n    .dataframe tbody tr th {\n        vertical-align: top;\n    }\n\n    .dataframe thead th {\n        text-align: right;\n    }\n</style>\n<table border=\"1\" class=\"dataframe\">\n  <thead>\n    <tr style=\"text-align: right;\">\n      <th></th>\n      <th>Hours</th>\n      <th>Scores</th>\n    </tr>\n  </thead>\n  <tbody>\n    <tr>\n      <th>0</th>\n      <td>2.5</td>\n      <td>21</td>\n    </tr>\n    <tr>\n      <th>1</th>\n      <td>5.1</td>\n      <td>47</td>\n    </tr>\n    <tr>\n      <th>2</th>\n      <td>3.2</td>\n      <td>27</td>\n    </tr>\n    <tr>\n      <th>3</th>\n      <td>8.5</td>\n      <td>75</td>\n    </tr>\n    <tr>\n      <th>4</th>\n      <td>3.5</td>\n      <td>30</td>\n    </tr>\n    <tr>\n      <th>5</th>\n      <td>1.5</td>\n      <td>20</td>\n    </tr>\n    <tr>\n      <th>6</th>\n      <td>9.2</td>\n      <td>88</td>\n    </tr>\n    <tr>\n      <th>7</th>\n      <td>5.5</td>\n      <td>60</td>\n    </tr>\n    <tr>\n      <th>8</th>\n      <td>8.3</td>\n      <td>81</td>\n    </tr>\n    <tr>\n      <th>9</th>\n      <td>2.7</td>\n      <td>25</td>\n    </tr>\n  </tbody>\n</table>\n</div>"
          },
          "metadata": {}
        }
      ],
      "execution_count": 28
    },
    {
      "cell_type": "markdown",
      "source": "Let's plot our data points on 2-D graph to eyeball our dataset and see if we can manually find any relationship between the data. We can create the plot with the following script:",
      "metadata": {
        "id": "RHsPneuM4NgB"
      }
    },
    {
      "cell_type": "code",
      "source": "# Plotting the distribution of scores\ns_data.plot(x='Hours', y='Scores', style='o')  \nplt.title('Hours vs Percentage')  \nplt.xlabel('Hours Studied')  \nplt.ylabel('Percentage Score')  \nplt.show()",
      "metadata": {
        "colab": {
          "base_uri": "https://localhost:8080/",
          "height": 295
        },
        "id": "Q3UjshLrIvqp",
        "outputId": "734d4330-b375-436c-96da-19776e5e08b6",
        "trusted": true,
        "scrolled": true
      },
      "outputs": [
        {
          "output_type": "display_data",
          "data": {
            "text/plain": "<Figure size 640x480 with 1 Axes>",
            "image/png": "[encoded data removed]"
          },
          "metadata": {}
        }
      ],
      "execution_count": 18
    },
    {
      "cell_type": "markdown",
      "source": "",
      "metadata": {
        "id": "MFN3wjTRLQ71"
      }
    },
    {
      "cell_type": "markdown",
      "source": "**From the graph above, we can clearly see that there is a positive linear relation between the number of hours studied and percentage of score.**",
      "metadata": {
        "id": "fiQaULio4Rzr"
      }
    },
    {
      "cell_type": "markdown",
      "source": "### **Preparing the data**\n\nThe next step is to divide the data into \"attributes\" (inputs) and \"labels\" (outputs).",
      "metadata": {
        "id": "WWtEr64M4jdz"
      }
    },
    {
      "cell_type": "code",
      "source": "X = s_data.iloc[:, :-1].values  \ny = s_data.iloc[:, 1].values ",
      "metadata": {
        "id": "Mi_3C7O-I4QK",
        "trusted": true
      },
      "outputs": [],
      "execution_count": 19
    },
    {
      "cell_type": "markdown",
      "source": "",
      "metadata": {
        "id": "fS7bECeuLia5"
      }
    },
    {
      "cell_type": "markdown",
      "source": "Now that we have our attributes and labels, the next step is to split this data into training and test sets. We'll do this by using Scikit-Learn's built-in train_test_split() method:",
      "metadata": {
        "id": "Riz-ZiZ34fO4"
      }
    },
    {
      "cell_type": "code",
      "source": "from sklearn.model_selection import train_test_split  \nX_train, X_test, y_train, y_test = train_test_split(X, y, \n                            test_size=0.2, random_state=0) ",
      "metadata": {
        "id": "TAUtVk0nI9qH",
        "trusted": true
      },
      "outputs": [],
      "execution_count": 20
    },
    {
      "cell_type": "markdown",
      "source": "",
      "metadata": {
        "id": "Ab5J3IabLnWS"
      }
    },
    {
      "cell_type": "markdown",
      "source": "### **Training the Algorithm**\nWe have split our data into training and testing sets, and now is finally the time to train our algorithm. ",
      "metadata": {
        "id": "a6WXptFU5CkC"
      }
    },
    {
      "cell_type": "code",
      "source": "from sklearn.linear_model import LinearRegression  \nregressor = LinearRegression()  \nregressor.fit(X_train, y_train) \n\nprint(\"Training complete.\")",
      "metadata": {
        "id": "qddCuaS84fpK",
        "colab": {
          "base_uri": "https://localhost:8080/"
        },
        "outputId": "43dd5d1b-c2d9-4e7d-8961-7f1def27f71a",
        "trusted": true
      },
      "outputs": [
        {
          "name": "stdout",
          "text": "Training complete.\n",
          "output_type": "stream"
        }
      ],
      "execution_count": 21
    },
    {
      "cell_type": "markdown",
      "source": "",
      "metadata": {
        "id": "DITd_twaLEsx"
      }
    },
    {
      "cell_type": "code",
      "source": "# Plotting the regression line\nline = regressor.coef_*X+regressor.intercept_\n\n# Plotting for the test data\nplt.scatter(X, y)\nplt.plot(X, line);\nplt.show()",
      "metadata": {
        "id": "J61NX2_2-px7",
        "colab": {
          "base_uri": "https://localhost:8080/",
          "height": 265
        },
        "outputId": "e571229f-d9e0-4859-ec08-0e0d81a8f546",
        "trusted": true
      },
      "outputs": [
        {
          "output_type": "display_data",
          "data": {
            "text/plain": "<Figure size 640x480 with 1 Axes>",
            "image/png": "[encoded data removed]"
          },
          "metadata": {}
        }
      ],
      "execution_count": 22
    },
    {
      "cell_type": "markdown",
      "source": "",
      "metadata": {
        "id": "O8akedUkLxVr"
      }
    },
    {
      "cell_type": "markdown",
      "source": "### **Making Predictions**\nNow that we have trained our algorithm, it's time to make some predictions.",
      "metadata": {
        "id": "JCQn-g4m5OK2"
      }
    },
    {
      "cell_type": "code",
      "source": "print(X_test) # Testing data - In Hours\ny_pred = regressor.predict(X_test) # Predicting the scores",
      "metadata": {
        "id": "Tt-Fmzu55EGM",
        "colab": {
          "base_uri": "https://localhost:8080/"
        },
        "outputId": "b72dd6de-14ac-4aaa-e9f0-95ed970fc931",
        "trusted": true
      },
      "outputs": [
        {
          "name": "stdout",
          "text": "[[1.5]\n [3.2]\n [7.4]\n [2.5]\n [5.9]]\n",
          "output_type": "stream"
        }
      ],
      "execution_count": 23
    },
    {
      "cell_type": "code",
      "source": "# Comparing Actual vs Predicted\ndf = pd.DataFrame({'Actual': y_test, 'Predicted': y_pred})  \ndf ",
      "metadata": {
        "id": "6bmZUMZh5QLb",
        "colab": {
          "base_uri": "https://localhost:8080/",
          "height": 204
        },
        "outputId": "6d10a02e-8530-471b-a10d-7bcfa7f71a42",
        "trusted": true
      },
      "outputs": [
        {
          "execution_count": 24,
          "output_type": "execute_result",
          "data": {
            "text/plain": "   Actual  Predicted\n0      20  16.884145\n1      27  33.732261\n2      69  75.357018\n3      30  26.794801\n4      62  60.491033",
            "text/html": "<div>\n<style scoped>\n    .dataframe tbody tr th:only-of-type {\n        vertical-align: middle;\n    }\n\n    .dataframe tbody tr th {\n        vertical-align: top;\n    }\n\n    .dataframe thead th {\n        text-align: right;\n    }\n</style>\n<table border=\"1\" class=\"dataframe\">\n  <thead>\n    <tr style=\"text-align: right;\">\n      <th></th>\n      <th>Actual</th>\n      <th>Predicted</th>\n    </tr>\n  </thead>\n  <tbody>\n    <tr>\n      <th>0</th>\n      <td>20</td>\n      <td>16.884145</td>\n    </tr>\n    <tr>\n      <th>1</th>\n      <td>27</td>\n      <td>33.732261</td>\n    </tr>\n    <tr>\n      <th>2</th>\n      <td>69</td>\n      <td>75.357018</td>\n    </tr>\n    <tr>\n      <th>3</th>\n      <td>30</td>\n      <td>26.794801</td>\n    </tr>\n    <tr>\n      <th>4</th>\n      <td>62</td>\n      <td>60.491033</td>\n    </tr>\n  </tbody>\n</table>\n</div>"
          },
          "metadata": {}
        }
      ],
      "execution_count": 24
    },
    {
      "cell_type": "code",
      "source": "# You can also test with your own data\nhours = 9.25\nown_pred = regressor.predict([[hours]])\nprint(\"No of Hours = {}\".format(hours))\nprint(\"Predicted Score = {}\".format(own_pred[0]))",
      "metadata": {
        "id": "KAFO8zbx-AH1",
        "colab": {
          "base_uri": "https://localhost:8080/"
        },
        "outputId": "6a2eac3d-dc11-4b5d-bb97-307a703663b0",
        "trusted": true
      },
      "outputs": [
        {
          "name": "stdout",
          "text": "No of Hours = 9.25\nPredicted Score = 93.69173248737539\n",
          "output_type": "stream"
        }
      ],
      "execution_count": 25
    },
    {
      "cell_type": "markdown",
      "source": "",
      "metadata": {
        "id": "cLGdtL8uL8fX"
      }
    },
    {
      "cell_type": "code",
      "source": "from sklearn import metrics  \nprint('Mean Absolute Error:', \n      metrics.mean_absolute_error(y_test, y_pred)) ",
      "metadata": {
        "id": "r5UOrRH-5VCQ",
        "colab": {
          "base_uri": "https://localhost:8080/"
        },
        "outputId": "93f9cec8-6ff4-4c88-d1e0-d4fe0b772d4e",
        "trusted": true
      },
      "outputs": [
        {
          "name": "stdout",
          "text": "Mean Absolute Error: 4.183859899002982\n",
          "output_type": "stream"
        }
      ],
      "execution_count": 26
    },
    {
      "cell_type": "code",
      "source": "",
      "metadata": {
        "trusted": true
      },
      "outputs": [],
      "execution_count": null
    }
  ]
}